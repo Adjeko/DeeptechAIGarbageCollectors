{
  "nbformat": 4,
  "nbformat_minor": 0,
  "metadata": {
    "colab": {
      "name": "ImageCruncher.ipynb",
      "version": "0.3.2",
      "provenance": [],
      "collapsed_sections": []
    },
    "kernelspec": {
      "name": "python3",
      "display_name": "Python 3"
    }
  },
  "cells": [
    {
      "metadata": {
        "id": "kWEtAB1sLNRD",
        "colab_type": "code",
        "colab": {}
      },
      "cell_type": "code",
      "source": [
        "import numpy as np\n",
        "import cv2\n",
        "import os\n",
        "\n",
        "def readImage(filename):\n",
        "  return cv2.imread(filename, 0)\n",
        "\n",
        "def resizeImage(img):\n",
        "  return cv2.resize(img, (48, 84)) # 9:16\n",
        "\n",
        "def writeImage(filename, resizedImg):\n",
        "  cv2.imwrite(filename,resizedImg)\n",
        "  \n",
        "def convertAllImages(rootdir, convertedFileName):\n",
        "  for root, dirs, files in os.walk(rootdir):\n",
        "    for file in files:\n",
        "      imgPath = os.path.join(root, file)\n",
        "      img = readImage(imgPath)\n",
        "      img = resizeImage(img)\n",
        "      writeImage(root + \"\\\\\" + convertedFileName, img)"
      ],
      "execution_count": 0,
      "outputs": []
    },
    {
      "metadata": {
        "id": "EeGpWIvrP7lH",
        "colab_type": "code",
        "colab": {}
      },
      "cell_type": "code",
      "source": [
        "import os\n",
        "\n",
        "#rootdir = 'C:\\\\Users\\\\Julian\\\\Nextcloud\\\\DeeptechAI\\\\screenshots'\n",
        "rootdir = 'C:\\\\Jupyter\\\\Websites'\n",
        "\n",
        "convertAllImages(rootdir, \"ganzeBild.jpg\")"
      ],
      "execution_count": 0,
      "outputs": []
    }
  ]
}