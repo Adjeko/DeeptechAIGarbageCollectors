{
  "nbformat": 4,
  "nbformat_minor": 0,
  "metadata": {
    "colab": {
      "name": "TextNetwork.ipynb",
      "version": "0.3.2",
      "provenance": [],
      "private_outputs": true,
      "collapsed_sections": [],
      "toc_visible": true
    },
    "kernelspec": {
      "name": "python3",
      "display_name": "Python 3"
    }
  },
  "cells": [
    {
      "metadata": {
        "id": "XOZQ9mqgAZ3A",
        "colab_type": "code",
        "colab": {}
      },
      "cell_type": "code",
      "source": [
        "import numpy as np\n",
        "seed = 8\n",
        "np.random.seed(seed)\n",
        "import pickle\n",
        "import pandas as pd\n",
        "import tensorflow as tf\n",
        "import math\n",
        "from sklearn.preprocessing import LabelBinarizer\n",
        "from random import shuffle\n",
        "\n",
        "from tensorflow.python.client import device_lib\n",
        "from tensorflow.keras import metrics \n",
        "\n",
        "def get_available_devices():\n",
        "    local_device_protos = device_lib.list_local_devices()\n",
        "    return [x.name for x in local_device_protos]\n",
        "\n",
        "get_available_devices()"
      ],
      "execution_count": 0,
      "outputs": []
    },
    {
      "metadata": {
        "id": "60nHb5gsDh9p",
        "colab_type": "code",
        "colab": {}
      },
      "cell_type": "code",
      "source": [
        "def loadData():\n",
        "  with open('C:\\\\Users\\\\Adjek\\\\Nextcloud\\\\DeeptechAI\\\\words2vec\\\\words2vec.pickle', 'rb') as f:\n",
        "    data = pickle.load(f)\n",
        "    return data\n",
        "  \n",
        "def createDataSet(enc, words, csv):\n",
        "    \n",
        "    X = list()\n",
        "    Y = list()\n",
        "    U = list()\n",
        "    \n",
        "    for url in words.keys():\n",
        "      if(isinstance(csv[url], str) & (len(words[url]) == 20)):\n",
        "        X.append(np.array(words[url]))\n",
        "        Y.append(csv[url])\n",
        "        U.append(url)\n",
        "        \n",
        "    Y = enc.fit_transform(Y)\n",
        "    \n",
        "    return np.array(X), np.array(Y), U\n",
        "\n",
        "def reorderData(csv):\n",
        "    urlList = csv[\"Domain\"]\n",
        "    sectionList = csv[\"WZ2008 Section\"]\n",
        "    \n",
        "    resultDict = dict()\n",
        "    for i in range(len(urlList)):\n",
        "      resultDict[urlList[i]] = sectionList[i]\n",
        "      \n",
        "    return resultDict"
      ],
      "execution_count": 0,
      "outputs": []
    },
    {
      "metadata": {
        "id": "Lq_yi0kMDIsL",
        "colab_type": "code",
        "colab": {}
      },
      "cell_type": "code",
      "source": [
        "data = pd.read_csv(\"C:\\\\Users\\\\Adjek\\\\Nextcloud\\\\DeeptechAI\\\\data\\\\urls.csv\", sep = \";\", encoding = \"ISO-8859-1\")\n",
        "keyValueData = reorderData(data)\n",
        "wordVectors = loadData()\n",
        "\n",
        "encoder = LabelBinarizer()\n",
        "dataSet_X, dataSet_Y, urls = createDataSet(encoder, wordVectors, keyValueData)\n",
        "\n",
        "data.head()\n"
      ],
      "execution_count": 0,
      "outputs": []
    },
    {
      "metadata": {
        "id": "v0SfwhcfKalH",
        "colab_type": "code",
        "colab": {}
      },
      "cell_type": "code",
      "source": [
        "print(dataSet_X[0])\n",
        "print(len(dataSet_X))\n",
        "print(dataSet_X.shape)\n",
        "print(dataSet_Y[0])\n",
        "print(len(dataSet_Y))\n",
        "print(dataSet_Y.shape)\n",
        "num_classes = dataSet_Y[1].shape[0]"
      ],
      "execution_count": 0,
      "outputs": []
    },
    {
      "metadata": {
        "id": "wONejgiUk64P",
        "colab_type": "code",
        "colab": {}
      },
      "cell_type": "code",
      "source": [
        "#dataSet_X = dataSet_X.reshape(dataSet_X.shape[0], 20, 1)\n",
        "#print(dataSet_X.shape)\n",
        "#dataSet_Y = dataSet_Y.reshape(dataSet_Y.shape[0], 19, 1)\n",
        "#print(dataSet_Y.shape)"
      ],
      "execution_count": 0,
      "outputs": []
    },
    {
      "metadata": {
        "id": "yMXRSLLW5d40",
        "colab_type": "code",
        "colab": {}
      },
      "cell_type": "code",
      "source": [
        "trainSize = math.floor(len(dataSet_X) * 0.6)\n",
        "validationSize = math.floor(len(dataSet_X) * 0.8)\n",
        "\n",
        "#shuffle(dataSet_X)\n",
        "#shuffle(dataSet_Y)\n",
        "\n",
        "\n",
        "train_X = dataSet_X[0:trainSize]\n",
        "train_Y = dataSet_Y[0:trainSize]\n",
        "train_U = urls[0:trainSize]\n",
        "\n",
        "validation_X = dataSet_X[trainSize:validationSize]\n",
        "validation_Y = dataSet_Y[trainSize:validationSize]\n",
        "validation_U = urls[trainSize:validationSize]\n",
        "\n",
        "test_X = dataSet_X[validationSize:len(dataSet_X)]\n",
        "test_Y = dataSet_Y[validationSize:len(dataSet_X)]\n",
        "test_U = urls[validationSize:len(dataSet_X)]\n",
        "\n",
        "print(len(train_X))\n",
        "print(len(validation_X))\n",
        "print(len(test_X))"
      ],
      "execution_count": 0,
      "outputs": []
    },
    {
      "metadata": {
        "id": "cxOXCJ57WckY",
        "colab_type": "code",
        "colab": {}
      },
      "cell_type": "code",
      "source": [
        "print(train_X.shape)\n",
        "print(train_X)\n",
        "print(train_X[0].shape)\n",
        "\n",
        "print(train_Y.shape)\n",
        "print(train_Y)\n",
        "print(train_Y[0].shape)"
      ],
      "execution_count": 0,
      "outputs": []
    },
    {
      "metadata": {
        "id": "SFESheSKj75j",
        "colab_type": "code",
        "colab": {}
      },
      "cell_type": "code",
      "source": [
        "num_classes"
      ],
      "execution_count": 0,
      "outputs": []
    },
    {
      "metadata": {
        "id": "1pZpLUdYNwFh",
        "colab_type": "code",
        "colab": {}
      },
      "cell_type": "code",
      "source": [
        "def text_shallow_model():\n",
        "    # create model\n",
        "    inputs = tf.keras.Input(shape=(20, ))\n",
        "    dense_1 = tf.keras.layers.Dense(450, activation=tf.nn.relu)(inputs)\n",
        "    dense_2 = tf.keras.layers.Dense(30, activation=tf.nn.relu)(dense_1)\n",
        "    dense_3 = tf.keras.layers.Dense(num_classes, activation=tf.nn.softmax)(dense_2)\n",
        "    \n",
        "    model = tf.keras.Model(inputs=inputs, outputs=dense_3)\n",
        "    \n",
        "    # Compile model\n",
        "    model.compile(loss='categorical_crossentropy', optimizer='adam', metrics=[metrics.categorical_accuracy])\n",
        "    model.summary()\n",
        "    return model\n",
        "  \n",
        "def text_deep_model():\n",
        "    # create model\n",
        "    inputs = tf.keras.Input(shape=(20, ))\n",
        "    dense_1 = tf.keras.layers.Dense(250, activation=tf.nn.relu)(inputs)\n",
        "    drop_1 = tf.keras.layers.Dropout(0.5)(dense_1)\n",
        "    dense_2 = tf.keras.layers.Dense(100, activation=tf.nn.relu)(drop_1)\n",
        "    drop_2 = tf.keras.layers.Dropout(0.5)(dense_2)\n",
        "    dense_3 = tf.keras.layers.Dense(30, activation=tf.nn.relu)(drop_2)\n",
        "    dense_4 = tf.keras.layers.Dense(num_classes, activation=tf.nn.softmax)(dense_3)\n",
        "    \n",
        "    model = tf.keras.Model(inputs=inputs, outputs=dense_4)\n",
        "    \n",
        "    # Compile model\n",
        "    model.compile(loss='categorical_crossentropy', optimizer='adam', metrics=[metrics.categorical_accuracy])\n",
        "    model.summary()\n",
        "    return model"
      ],
      "execution_count": 0,
      "outputs": []
    },
    {
      "metadata": {
        "id": "7DdWXcytN6by",
        "colab_type": "code",
        "colab": {}
      },
      "cell_type": "code",
      "source": [
        "path = 'C:\\\\Jupyter'\n",
        "tbCallBack = tf.keras.callbacks.TensorBoard(log_dir=path,\n",
        "                                            write_graph=True,\n",
        "                                            write_images=True,\n",
        "                                            histogram_freq=0)"
      ],
      "execution_count": 0,
      "outputs": []
    },
    {
      "metadata": {
        "id": "JSW011YFJL5w",
        "colab_type": "code",
        "colab": {}
      },
      "cell_type": "code",
      "source": [
        "#@title Wähle das Device\n",
        "\n",
        "# build the model\n",
        "device = '/device:GPU:0' #@param ['/device:CPU:0', '/device:GPU:0']\n",
        "with tf.device(device):\n",
        "    model = text_shallow_model()\n",
        "    \n",
        "# Fit the model\n",
        "    model.fit(train_X, train_Y, validation_data=(validation_X, validation_Y), epochs=200, batch_size=200)\n",
        "\n",
        "# Final evaluation of the model\n",
        "    scores = model.evaluate(test_X, test_Y, verbose=1)\n",
        "print(\"Text Network Error: %.2f%%\" % (100-scores[1]*100))"
      ],
      "execution_count": 0,
      "outputs": []
    },
    {
      "metadata": {
        "id": "GbgeURSztonm",
        "colab_type": "code",
        "colab": {}
      },
      "cell_type": "code",
      "source": [
        "example_X = test_X[2:30]\n",
        "example_Y = test_Y[2:30]\n",
        "example_U = test_U[2:30]\n",
        "\n",
        "\n",
        "\n",
        "prediction = model.predict(example_X)\n",
        "\n",
        "predictedClasses = encoder.inverse_transform(prediction)\n",
        "originalClasses = encoder.inverse_transform(example_Y)"
      ],
      "execution_count": 0,
      "outputs": []
    },
    {
      "metadata": {
        "id": "Aqo-k5hpuEVU",
        "colab_type": "code",
        "colab": {}
      },
      "cell_type": "code",
      "source": [
        "#print(prediction)\n",
        "\n",
        "for i in range(len(prediction)):\n",
        "  print(str(prediction[i].argmax()) + \"<->\" + str(example_Y[i].argmax()) + \" für URL: \" + example_U[i] + \" mit predicted Klasse \" + predictedClasses[i] + \" Lösung: \" + originalClasses[i])"
      ],
      "execution_count": 0,
      "outputs": []
    },
    {
      "metadata": {
        "id": "s3w3OWiZuPB4",
        "colab_type": "code",
        "colab": {}
      },
      "cell_type": "code",
      "source": [
        ""
      ],
      "execution_count": 0,
      "outputs": []
    }
  ]
}